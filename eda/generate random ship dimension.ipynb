{
 "cells": [
  {
   "cell_type": "code",
   "execution_count": 47,
   "id": "29d47405",
   "metadata": {},
   "outputs": [],
   "source": [
    "import pandas as pd\n",
    "import numpy as np\n",
    "import string\n",
    "import random\n",
    "from datetime import datetime"
   ]
  },
  {
   "cell_type": "code",
   "execution_count": 3,
   "id": "969071c9",
   "metadata": {},
   "outputs": [],
   "source": [
    "df = pd.read_csv('eedibaseline.csv')\n",
    "df_fact = pd.read_csv('facttable.csv')"
   ]
  },
  {
   "cell_type": "code",
   "execution_count": 5,
   "id": "2251f20b",
   "metadata": {},
   "outputs": [
    {
     "data": {
      "text/plain": [
       "imo                 11613\n",
       "ship_name           11460\n",
       "ship_type              15\n",
       "issue_date            212\n",
       "expiry_date             1\n",
       "fuel_consumption    11049\n",
       "sea_time            10602\n",
       "co2_distance         9979\n",
       "co2_transport        4136\n",
       "verifier               19\n",
       "EIV                  2337\n",
       "EEDI                  954\n",
       "dtype: int64"
      ]
     },
     "execution_count": 5,
     "metadata": {},
     "output_type": "execute_result"
    }
   ],
   "source": [
    "df_fact.nunique()"
   ]
  },
  {
   "cell_type": "code",
   "execution_count": 15,
   "id": "f149d6ea",
   "metadata": {},
   "outputs": [],
   "source": [
    "ship_type = df_fact['ship_type'].unique()"
   ]
  },
  {
   "cell_type": "code",
   "execution_count": 92,
   "id": "20f56f0c",
   "metadata": {},
   "outputs": [],
   "source": [
    "#Generate Random Call Sign List\n",
    "call_sign = []\n",
    "for i in range (7561):\n",
    "    random_call_sign = ''.join(random.choices(string.ascii_uppercase + string.digits, k = 4)) \n",
    "    call_sign.append(random_call_sign)\n",
    "    \n",
    "for i in range (4052):\n",
    "    random_call_sign = ''.join(random.choices(string.ascii_uppercase + string.digits, k = 5))\n",
    "    call_sign.append(random_call_sign)\n",
    "\n",
    "#Generate Random MMSI List\n",
    "random_mmsi = random.sample(range(200000000, 799999999), 11613)\n",
    "\n",
    "#Generate Random Speed List\n",
    "random_speed = [random.randint(18, 26) for x in range(11613)]"
   ]
  },
  {
   "cell_type": "code",
   "execution_count": 25,
   "id": "eb3c2918",
   "metadata": {},
   "outputs": [],
   "source": [
    "df_fact['call_sign'] = call_sign\n",
    "df_fact['mmsi'] = random_mmsi\n",
    "df_fact['speed'] = random_speed"
   ]
  },
  {
   "cell_type": "code",
   "execution_count": 116,
   "id": "25415b24",
   "metadata": {},
   "outputs": [],
   "source": [
    "def built_year(df, ship_type, start_year, end_year):\n",
    "    random_len = len(df[df['ship_type'] == ship_type])\n",
    "    random_year = [random.randint(start_year, end_year) for x in range(random_len)]\n",
    "    df.loc[df['ship_type'] == ship_type, 'year_built'] = random_year\n",
    "    \n",
    "    return None"
   ]
  },
  {
   "cell_type": "code",
   "execution_count": 93,
   "id": "a858a423",
   "metadata": {},
   "outputs": [],
   "source": [
    "test = [0]*15\n",
    "ship_df = pd.DataFrame(test)\n",
    "ship_df['type'] = ship_type\n",
    "\n",
    "start_year = [2004, 2003, 1996, 1997, 1997, 1996, 1996, 2002, 2004, 2004, 2009, 2004, 1996, 1999, 2001]\n",
    "min_capacity = [200000, 5000, 100000, 80000, 10000, 50000,100000,7500,50000,5000,73000,10000,2000,2000,10000]\n",
    "max_capacity = [400000, 35000,400000,280000,25000,70000,280000,50000,130000,25000,225000,25000,40000,40000,25000]\n",
    "min_length = [320,90,250,145,80,120,290,250,200,75,330,120,80,80,120]\n",
    "max_length = [365, 130, 350, 365, 225, 230, 365, 300, 240, 180, 365, 180, 225, 225, 180]\n",
    "min_width = [32, 15, 20, 32, 15, 19, 32, 35, 30, 20, 38, 20, 15, 15, 20]\n",
    "max_width = [49, 20, 45, 50, 35, 37, 50, 43, 37, 35, 65, 35, 35, 35, 35]\n",
    "\n",
    "ship_df['start_year'] = start_year\n",
    "ship_df['max_cap'] = max_capacity\n",
    "ship_df['min_cap'] = min_capacity\n",
    "ship_df['max_length'] = max_length\n",
    "ship_df['min_length'] = min_length\n",
    "ship_df['max_width'] = max_width\n",
    "ship_df['min_width'] = min_width"
   ]
  },
  {
   "cell_type": "code",
   "execution_count": 131,
   "id": "fee28445",
   "metadata": {},
   "outputs": [],
   "source": [
    "for type in ship_df['type']:\n",
    "    year = ship_df[ship_df['type'] == type]['start_year'].values\n",
    "    built_year(df_fact, type, year, 2019)"
   ]
  },
  {
   "cell_type": "code",
   "execution_count": 96,
   "id": "53f958d9",
   "metadata": {},
   "outputs": [],
   "source": [
    "def assign_random(df, ship_type, min_col, max_col, final_name):\n",
    "    random_len = len(df[df['ship_type'] == ship_type])\n",
    "    max_val = ship_df[ship_df['type'] == type][max_col].values\n",
    "    min_val = ship_df[ship_df['type'] == type][min_col].values\n",
    "    random_val = [random.randint(min_val, max_val) for x in range(random_len)]\n",
    "    df.loc[df['ship_type'] == ship_type, final_name] = random_val\n",
    "    \n",
    "    return None"
   ]
  },
  {
   "cell_type": "code",
   "execution_count": 101,
   "id": "f175041a",
   "metadata": {},
   "outputs": [],
   "source": [
    "for type in ship_df['type']:\n",
    "    assign_random(df_fact, type, 'min_length', 'max_length', 'length')\n",
    "    assign_random(df_fact, type, 'min_width', 'max_width', 'width')\n",
    "    assign_random(df_fact, type, 'min_cap', 'max_cap', 'tonnage')"
   ]
  },
  {
   "cell_type": "code",
   "execution_count": 137,
   "id": "184a8af9",
   "metadata": {},
   "outputs": [],
   "source": [
    "df_fact['year_built'] = df_fact['year_built'].values.astype(str)\n",
    "df_fact['year_built'] = pd.to_datetime(df_fact['year_built'])\n",
    "df_fact['year_built'] = df_fact['year_built'].dt.year"
   ]
  },
  {
   "cell_type": "code",
   "execution_count": 141,
   "id": "b85f0d53",
   "metadata": {},
   "outputs": [],
   "source": [
    "ship_dim = df_fact[['imo', 'mmsi', 'call_sign', 'speed', 'year_built', 'length', 'width', 'tonnage']]"
   ]
  },
  {
   "cell_type": "code",
   "execution_count": 142,
   "id": "d90906ad",
   "metadata": {},
   "outputs": [],
   "source": [
    "random_engine = ['diesel','gasoline', 'lng', 'diesel/electric', 'electric', ]"
   ]
  },
  {
   "cell_type": "code",
   "execution_count": 148,
   "id": "ddffb2e2",
   "metadata": {},
   "outputs": [],
   "source": [
    "random_engine_pre2005 = [random.choice(random_engine[0:3]) for x in range(2059)]\n",
    "random_engine_post2005 = [random.choice(random_engine) for x in range(9554)]"
   ]
  },
  {
   "cell_type": "code",
   "execution_count": 146,
   "id": "ee10e2e9",
   "metadata": {},
   "outputs": [
    {
     "data": {
      "text/plain": [
       "9554"
      ]
     },
     "execution_count": 146,
     "metadata": {},
     "output_type": "execute_result"
    }
   ],
   "source": [
    "11613-2059"
   ]
  },
  {
   "cell_type": "code",
   "execution_count": 149,
   "id": "b838682e",
   "metadata": {},
   "outputs": [
    {
     "name": "stderr",
     "output_type": "stream",
     "text": [
      "/Users/salimwid/opt/anaconda3/lib/python3.8/site-packages/pandas/core/indexing.py:1599: SettingWithCopyWarning: \n",
      "A value is trying to be set on a copy of a slice from a DataFrame.\n",
      "Try using .loc[row_indexer,col_indexer] = value instead\n",
      "\n",
      "See the caveats in the documentation: https://pandas.pydata.org/pandas-docs/stable/user_guide/indexing.html#returning-a-view-versus-a-copy\n",
      "  self.obj[key] = infer_fill_value(value)\n",
      "/Users/salimwid/opt/anaconda3/lib/python3.8/site-packages/pandas/core/indexing.py:1676: SettingWithCopyWarning: \n",
      "A value is trying to be set on a copy of a slice from a DataFrame.\n",
      "Try using .loc[row_indexer,col_indexer] = value instead\n",
      "\n",
      "See the caveats in the documentation: https://pandas.pydata.org/pandas-docs/stable/user_guide/indexing.html#returning-a-view-versus-a-copy\n",
      "  self._setitem_single_column(ilocs[0], value, pi)\n",
      "/Users/salimwid/opt/anaconda3/lib/python3.8/site-packages/pandas/core/indexing.py:1676: SettingWithCopyWarning: \n",
      "A value is trying to be set on a copy of a slice from a DataFrame.\n",
      "Try using .loc[row_indexer,col_indexer] = value instead\n",
      "\n",
      "See the caveats in the documentation: https://pandas.pydata.org/pandas-docs/stable/user_guide/indexing.html#returning-a-view-versus-a-copy\n",
      "  self._setitem_single_column(ilocs[0], value, pi)\n"
     ]
    }
   ],
   "source": [
    "ship_dim.loc[ship_dim['year_built'] < 2005, 'engine_type'] = random_engine_pre2005\n",
    "ship_dim.loc[ship_dim['year_built'] >= 2005, 'engine_type'] = random_engine_post2005"
   ]
  },
  {
   "cell_type": "code",
   "execution_count": 157,
   "id": "0c47cdae",
   "metadata": {},
   "outputs": [],
   "source": [
    "ship_dim.to_csv('ship_dimension.csv')"
   ]
  },
  {
   "cell_type": "code",
   "execution_count": null,
   "id": "c41733ff",
   "metadata": {},
   "outputs": [],
   "source": []
  }
 ],
 "metadata": {
  "kernelspec": {
   "display_name": "Python 3",
   "language": "python",
   "name": "python3"
  },
  "language_info": {
   "codemirror_mode": {
    "name": "ipython",
    "version": 3
   },
   "file_extension": ".py",
   "mimetype": "text/x-python",
   "name": "python",
   "nbconvert_exporter": "python",
   "pygments_lexer": "ipython3",
   "version": "3.8.8"
  }
 },
 "nbformat": 4,
 "nbformat_minor": 5
}
